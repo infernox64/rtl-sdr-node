{
 "cells": [
  {
   "cell_type": "code",
   "execution_count": 134,
   "id": "15fae42f-501e-449f-aeb8-d6b89dfbbf43",
   "metadata": {},
   "outputs": [],
   "source": [
    "import json,io\n",
    "import pathlib\n",
    "from os import path\n",
    "from pydoc import pathdirs\n",
    "import sqlite3\n",
    "import sqlite3.dbapi2 as sql\n"
   ]
  },
  {
   "cell_type": "code",
   "execution_count": 20,
   "id": "11eab568-82ec-4a3f-a520-548e18db7abb",
   "metadata": {},
   "outputs": [],
   "source": [
    "def load_channels(json_file) ->list:\n",
    "    fp = io.open(json_file,'r')\n",
    "    o = json.load(fp)\n",
    "    lst: list = o['root']\n",
    "    return lst\n"
   ]
  },
  {
   "cell_type": "code",
   "execution_count": 157,
   "id": "883c03ba-1242-4a14-846e-0bab349f556b",
   "metadata": {},
   "outputs": [],
   "source": [
    "here = os.path.realpath(os.curdir)\n",
    "sqlfile = path.join(here,\"freqs.db\")\n",
    "\n",
    "db = sql.connect(sqlfile)"
   ]
  },
  {
   "cell_type": "code",
   "execution_count": 156,
   "id": "d1e405c9-5345-4dbd-8bd3-8caf4036b22e",
   "metadata": {},
   "outputs": [],
   "source": [
    "jsfile = path.join(here,\"freq.json\")\n",
    "olist = load_channels(jsfile)\n"
   ]
  },
  {
   "cell_type": "code",
   "execution_count": 158,
   "id": "efd510dc-9794-4bfd-b84a-fd373b4f1dee",
   "metadata": {},
   "outputs": [
    {
     "name": "stdout",
     "output_type": "stream",
     "text": [
      "values: ('fire', 12500, 483.5262)\n",
      "values: ('fire_dept', 12500, 483.5393)\n",
      "values: ('more_ems', 12500, 483.1868)\n",
      "values: ('no_idea', 12500, 470.778)\n",
      "values: ('other_PD', 12500, 471.4527)\n",
      "values: ('other_PD2', 125000, 471.5524)\n",
      "values: ('poop', 12500, 483.6879)\n",
      "values: ('screep', 125000, 483.6642)\n",
      "values: ('screep2', 125000, 483.6391)\n"
     ]
    }
   ],
   "source": [
    "chnls = list()\n",
    "for o in olist:\n",
    "    dv = tuple(o.values())\n",
    "    print(f\"values: {dv}\")\n",
    "    chnls.append(dv)\n"
   ]
  },
  {
   "cell_type": "code",
   "execution_count": 123,
   "id": "66dbd92c-59e1-4e71-9e1e-6889929b9fde",
   "metadata": {},
   "outputs": [
    {
     "data": {
      "text/plain": [
       "['name', 'bandwidth', 'frequency']"
      ]
     },
     "execution_count": 123,
     "metadata": {},
     "output_type": "execute_result"
    }
   ],
   "source": [
    "\n",
    "allkeys = list()\n",
    "import string\n",
    "allkeys.extend([\"name\",\"bandwidth\",\"frequency\"])\n",
    "allkeys\n"
   ]
  },
  {
   "cell_type": "code",
   "execution_count": 122,
   "id": "958f510b-3e41-48ab-b5c2-737b34145daa",
   "metadata": {},
   "outputs": [
    {
     "name": "stdout",
     "output_type": "stream",
     "text": [
      "keys minus bad ones: ['name', 'bandwidth', 'frequency']\n",
      "values to return ['fire', 12500.0, 483.5262]\n",
      "['fire', 12500.0, 483.5262]\n",
      "keys minus bad ones: ['name', 'bandwidth', 'frequency']\n",
      "values to return ['fire_dept', 12500.0, 483.5393]\n",
      "['fire_dept', 12500.0, 483.5393]\n",
      "keys minus bad ones: ['name', 'bandwidth', 'frequency']\n",
      "values to return ['more_ems', 12500, 483.1868]\n",
      "['more_ems', 12500, 483.1868]\n",
      "keys minus bad ones: ['name', 'bandwidth', 'frequency']\n",
      "values to return ['no_idea', 12500, 470.778]\n",
      "['no_idea', 12500, 470.778]\n",
      "keys minus bad ones: ['name', 'bandwidth', 'frequency']\n",
      "values to return ['other_PD', 12500, 471.4527]\n",
      "['other_PD', 12500, 471.4527]\n",
      "keys minus bad ones: ['name', 'bandwidth', 'frequency']\n",
      "values to return ['other_PD2', 125000, 471.5524]\n",
      "['other_PD2', 125000, 471.5524]\n",
      "keys minus bad ones: ['name', 'bandwidth', 'frequency']\n",
      "values to return ['poop', 12500, 483.6879]\n",
      "['poop', 12500, 483.6879]\n",
      "keys minus bad ones: ['bandwidth', 'frequency', 'name']\n",
      "values to return [125000, 483.6642, 'screep']\n",
      "[125000, 483.6642, 'screep']\n",
      "keys minus bad ones: ['bandwidth', 'frequency', 'name']\n",
      "values to return [125000, 483.6391, 'screep2']\n",
      "[125000, 483.6391, 'screep2']\n"
     ]
    }
   ],
   "source": [
    "il = list()\n",
    "bad_words = set(allkeys)\n",
    "import numbers\n",
    "def flt_keys(dct):\n",
    "#    l = dct.values()\n",
    "    k = list(dct.keys())\n",
    "    kys = list()\n",
    "    for n in k:\n",
    "        if ( n is int or n is float):\n",
    "            kys.append(n)\n",
    "\n",
    "    \n",
    "    \n",
    "    print(\"keys minus bad ones: %s\" % kys)\n",
    "    \n",
    "    lt = list()\n",
    "    for ky in kys:\n",
    "        lt.append(dct.get(ky))\n",
    "    print(\"values to return {O}\".format(O=lt))\n",
    "    return lt\n",
    "\n",
    "#    for v in l:\n",
    "        \n",
    "#            lt.append(v)\n",
    "\n",
    "\n",
    "def fltr(itm):\n",
    "    if itm is str:\n",
    "        return False\n",
    "\n",
    "\n",
    "for i in d:\n",
    "    itms = flt_keys(i)\n",
    "    print(itms)\n"
   ]
  },
  {
   "cell_type": "code",
   "execution_count": 142,
   "id": "c54219a5-7cf1-4084-b960-aa0e494abd65",
   "metadata": {},
   "outputs": [
    {
     "ename": "AttributeError",
     "evalue": "'tuple' object has no attribute 'values'",
     "output_type": "error",
     "traceback": [
      "\u001b[1;31m---------------------------------------------------------------------------\u001b[0m",
      "\u001b[1;31mAttributeError\u001b[0m                            Traceback (most recent call last)",
      "Cell \u001b[1;32mIn[142], line 3\u001b[0m\n\u001b[0;32m      1\u001b[0m ol \u001b[38;5;241m=\u001b[39m \u001b[38;5;28mlist\u001b[39m()\n\u001b[0;32m      2\u001b[0m \u001b[38;5;28;01mfor\u001b[39;00m ob \u001b[38;5;129;01min\u001b[39;00m chnls:\n\u001b[1;32m----> 3\u001b[0m     li \u001b[38;5;241m+\u001b[39m\u001b[38;5;241m=\u001b[39m \u001b[38;5;28mtuple\u001b[39m((\u001b[43mob\u001b[49m\u001b[38;5;241;43m.\u001b[39;49m\u001b[43mvalues\u001b[49m()))\n\u001b[0;32m      4\u001b[0m     ol\u001b[38;5;241m+\u001b[39m\u001b[38;5;241m=\u001b[39mli\n\u001b[0;32m      5\u001b[0m ol\n",
      "\u001b[1;31mAttributeError\u001b[0m: 'tuple' object has no attribute 'values'"
     ]
    }
   ],
   "source": [
    "ol = list()\n",
    "for ob in chnls:\n",
    "    li += tuple((ob.values()))\n",
    "    ol+=li\n",
    "ol\n"
   ]
  },
  {
   "cell_type": "code",
   "execution_count": 106,
   "id": "fe0b5c4e-0088-4c61-a7f2-defab290827d",
   "metadata": {},
   "outputs": [
    {
     "data": {
      "text/plain": [
       "True"
      ]
     },
     "execution_count": 106,
     "metadata": {},
     "output_type": "execute_result"
    }
   ],
   "source": [
    "'name' in bad_words"
   ]
  },
  {
   "cell_type": "code",
   "execution_count": 128,
   "id": "c2396ace-a829-4de5-8f06-7eaf7e52c5ba",
   "metadata": {},
   "outputs": [
    {
     "data": {
      "text/plain": [
       "[{'name': 'fire', 'bandwidth': 12500.0, 'frequency': 483.5262},\n",
       " {'name': 'fire_dept', 'bandwidth': 12500.0, 'frequency': 483.5393},\n",
       " {'name': 'more_ems', 'bandwidth': 12500, 'frequency': 483.1868},\n",
       " {'name': 'no_idea', 'bandwidth': 12500, 'frequency': 470.778},\n",
       " {'name': 'other_PD', 'bandwidth': 12500, 'frequency': 471.4527},\n",
       " {'name': 'other_PD2', 'bandwidth': 125000, 'frequency': 471.5524},\n",
       " {'name': 'poop', 'bandwidth': 12500, 'frequency': 483.6879},\n",
       " {'bandwidth': 125000, 'frequency': 483.6642, 'name': 'screep'},\n",
       " {'bandwidth': 125000, 'frequency': 483.6391, 'name': 'screep2'}]"
      ]
     },
     "execution_count": 128,
     "metadata": {},
     "output_type": "execute_result"
    }
   ],
   "source": [
    "[tupled"
   ]
  },
  {
   "cell_type": "code",
   "execution_count": 159,
   "id": "7dfdaaa2-2eff-40bd-b25b-49613fe4f348",
   "metadata": {},
   "outputs": [],
   "source": [
    "cur = db.cursor()"
   ]
  },
  {
   "cell_type": "code",
   "execution_count": 160,
   "id": "6f3ef0a4-115a-40d8-924a-ba4fa3756c8f",
   "metadata": {},
   "outputs": [],
   "source": [
    "def addrows(c: db.cursor, o: list):\n",
    "    return c.executemany(\"INSERT INTO channels VALUES (?,?,?)\",o)\n",
    "\n",
    "def addrow(c: db.cursor, o: tuple):\n",
    "    return c.execute(\"INSERT INTO channels VALUES (?,?,?)\",o)\n"
   ]
  },
  {
   "cell_type": "code",
   "execution_count": 161,
   "id": "86836cfc-6805-403c-ae5a-026f992e87b2",
   "metadata": {},
   "outputs": [
    {
     "data": {
      "text/plain": [
       "<sqlite3.Cursor at 0x19bc61d4240>"
      ]
     },
     "execution_count": 161,
     "metadata": {},
     "output_type": "execute_result"
    }
   ],
   "source": [
    "addrows(cur,chnls)"
   ]
  },
  {
   "cell_type": "code",
   "execution_count": 155,
   "id": "3b201426-b1c1-44ad-8c76-c2dec64811fb",
   "metadata": {},
   "outputs": [],
   "source": [
    "db.close()"
   ]
  },
  {
   "cell_type": "code",
   "execution_count": 162,
   "id": "d979d98c-b3a6-4075-bf09-82c4e55a9301",
   "metadata": {},
   "outputs": [
    {
     "data": {
      "text/plain": [
       "<sqlite3.Cursor at 0x19bc61d4240>"
      ]
     },
     "execution_count": 162,
     "metadata": {},
     "output_type": "execute_result"
    }
   ],
   "source": [
    "_.execute(\"select * from channels \")"
   ]
  },
  {
   "cell_type": "code",
   "execution_count": 163,
   "id": "7d3d4c0a-4ceb-4396-a36c-402be548b93d",
   "metadata": {},
   "outputs": [
    {
     "data": {
      "text/plain": [
       "[('fire', 12500, 483.5262),\n",
       " ('fire_dept', 12500, 483.5393),\n",
       " ('more_ems', 12500, 483.1868),\n",
       " ('no_idea', 12500, 470.778),\n",
       " ('other_PD', 12500, 471.4527),\n",
       " ('other_PD2', 125000, 471.5524),\n",
       " ('poop', 12500, 483.6879),\n",
       " ('screep', 125000, 483.6642),\n",
       " ('screep2', 125000, 483.6391)]"
      ]
     },
     "execution_count": 163,
     "metadata": {},
     "output_type": "execute_result"
    }
   ],
   "source": [
    "_.fetchall()"
   ]
  },
  {
   "cell_type": "code",
   "execution_count": null,
   "id": "74bd00ff-5c83-4d9c-bf84-2d503c816b78",
   "metadata": {},
   "outputs": [],
   "source": []
  }
 ],
 "metadata": {
  "kernelspec": {
   "display_name": "Python 3 (ipykernel)",
   "language": "python",
   "name": "python3"
  },
  "language_info": {
   "codemirror_mode": {
    "name": "ipython",
    "version": 3
   },
   "file_extension": ".py",
   "mimetype": "text/x-python",
   "name": "python",
   "nbconvert_exporter": "python",
   "pygments_lexer": "ipython3",
   "version": "3.12.1"
  },
  "widgets": {
   "application/vnd.jupyter.widget-state+json": {
    "state": {},
    "version_major": 2,
    "version_minor": 0
   }
  }
 },
 "nbformat": 4,
 "nbformat_minor": 5
}
